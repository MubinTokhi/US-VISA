{
 "cells": [
  {
   "cell_type": "markdown",
   "id": "033b1f99-0073-456c-ae62-4ae47449d39e",
   "metadata": {},
   "source": [
    "## Data Pre-Processing"
   ]
  },
  {
   "cell_type": "markdown",
   "id": "ca88860e-782f-4c1d-addd-268873897557",
   "metadata": {},
   "source": [
    "#### Import Packages and CSV"
   ]
  },
  {
   "cell_type": "code",
   "execution_count": 1,
   "id": "a5bfa93d-f352-4b46-972f-8009746a5651",
   "metadata": {},
   "outputs": [],
   "source": [
    "import pandas as pd\n",
    "import numpy as np\n",
    "import matplotlib.pyplot as plt\n",
    "import seaborn as sns\n",
    "import warnings\n",
    "warnings.filterwarnings(\"ignore\")\n",
    "pd.pandas.set_option(\"display.max_columns\", None)"
   ]
  },
  {
   "cell_type": "code",
   "execution_count": 2,
   "id": "7c152080-41a7-4343-be41-7ba2a8a80820",
   "metadata": {},
   "outputs": [
    {
     "data": {
      "text/html": [
       "<div>\n",
       "<style scoped>\n",
       "    .dataframe tbody tr th:only-of-type {\n",
       "        vertical-align: middle;\n",
       "    }\n",
       "\n",
       "    .dataframe tbody tr th {\n",
       "        vertical-align: top;\n",
       "    }\n",
       "\n",
       "    .dataframe thead th {\n",
       "        text-align: right;\n",
       "    }\n",
       "</style>\n",
       "<table border=\"1\" class=\"dataframe\">\n",
       "  <thead>\n",
       "    <tr style=\"text-align: right;\">\n",
       "      <th></th>\n",
       "      <th>case_id</th>\n",
       "      <th>continent</th>\n",
       "      <th>education_of_employee</th>\n",
       "      <th>has_job_experience</th>\n",
       "      <th>requires_job_training</th>\n",
       "      <th>no_of_employees</th>\n",
       "      <th>yr_of_estab</th>\n",
       "      <th>region_of_employment</th>\n",
       "      <th>prevailing_wage</th>\n",
       "      <th>unit_of_wage</th>\n",
       "      <th>full_time_position</th>\n",
       "      <th>case_status</th>\n",
       "    </tr>\n",
       "  </thead>\n",
       "  <tbody>\n",
       "    <tr>\n",
       "      <th>0</th>\n",
       "      <td>EZYV01</td>\n",
       "      <td>Asia</td>\n",
       "      <td>High School</td>\n",
       "      <td>N</td>\n",
       "      <td>N</td>\n",
       "      <td>14513</td>\n",
       "      <td>2007</td>\n",
       "      <td>West</td>\n",
       "      <td>592.2029</td>\n",
       "      <td>Hour</td>\n",
       "      <td>Y</td>\n",
       "      <td>Denied</td>\n",
       "    </tr>\n",
       "    <tr>\n",
       "      <th>1</th>\n",
       "      <td>EZYV02</td>\n",
       "      <td>Asia</td>\n",
       "      <td>Master's</td>\n",
       "      <td>Y</td>\n",
       "      <td>N</td>\n",
       "      <td>2412</td>\n",
       "      <td>2002</td>\n",
       "      <td>Northeast</td>\n",
       "      <td>83425.6500</td>\n",
       "      <td>Year</td>\n",
       "      <td>Y</td>\n",
       "      <td>Certified</td>\n",
       "    </tr>\n",
       "    <tr>\n",
       "      <th>2</th>\n",
       "      <td>EZYV03</td>\n",
       "      <td>Asia</td>\n",
       "      <td>Bachelor's</td>\n",
       "      <td>N</td>\n",
       "      <td>Y</td>\n",
       "      <td>44444</td>\n",
       "      <td>2008</td>\n",
       "      <td>West</td>\n",
       "      <td>122996.8600</td>\n",
       "      <td>Year</td>\n",
       "      <td>Y</td>\n",
       "      <td>Denied</td>\n",
       "    </tr>\n",
       "    <tr>\n",
       "      <th>3</th>\n",
       "      <td>EZYV04</td>\n",
       "      <td>Asia</td>\n",
       "      <td>Bachelor's</td>\n",
       "      <td>N</td>\n",
       "      <td>N</td>\n",
       "      <td>98</td>\n",
       "      <td>1897</td>\n",
       "      <td>West</td>\n",
       "      <td>83434.0300</td>\n",
       "      <td>Year</td>\n",
       "      <td>Y</td>\n",
       "      <td>Denied</td>\n",
       "    </tr>\n",
       "    <tr>\n",
       "      <th>4</th>\n",
       "      <td>EZYV05</td>\n",
       "      <td>Africa</td>\n",
       "      <td>Master's</td>\n",
       "      <td>Y</td>\n",
       "      <td>N</td>\n",
       "      <td>1082</td>\n",
       "      <td>2005</td>\n",
       "      <td>South</td>\n",
       "      <td>149907.3900</td>\n",
       "      <td>Year</td>\n",
       "      <td>Y</td>\n",
       "      <td>Certified</td>\n",
       "    </tr>\n",
       "    <tr>\n",
       "      <th>...</th>\n",
       "      <td>...</td>\n",
       "      <td>...</td>\n",
       "      <td>...</td>\n",
       "      <td>...</td>\n",
       "      <td>...</td>\n",
       "      <td>...</td>\n",
       "      <td>...</td>\n",
       "      <td>...</td>\n",
       "      <td>...</td>\n",
       "      <td>...</td>\n",
       "      <td>...</td>\n",
       "      <td>...</td>\n",
       "    </tr>\n",
       "    <tr>\n",
       "      <th>25475</th>\n",
       "      <td>EZYV25476</td>\n",
       "      <td>Asia</td>\n",
       "      <td>Bachelor's</td>\n",
       "      <td>Y</td>\n",
       "      <td>Y</td>\n",
       "      <td>2601</td>\n",
       "      <td>2008</td>\n",
       "      <td>South</td>\n",
       "      <td>77092.5700</td>\n",
       "      <td>Year</td>\n",
       "      <td>Y</td>\n",
       "      <td>Certified</td>\n",
       "    </tr>\n",
       "    <tr>\n",
       "      <th>25476</th>\n",
       "      <td>EZYV25477</td>\n",
       "      <td>Asia</td>\n",
       "      <td>High School</td>\n",
       "      <td>Y</td>\n",
       "      <td>N</td>\n",
       "      <td>3274</td>\n",
       "      <td>2006</td>\n",
       "      <td>Northeast</td>\n",
       "      <td>279174.7900</td>\n",
       "      <td>Year</td>\n",
       "      <td>Y</td>\n",
       "      <td>Certified</td>\n",
       "    </tr>\n",
       "    <tr>\n",
       "      <th>25477</th>\n",
       "      <td>EZYV25478</td>\n",
       "      <td>Asia</td>\n",
       "      <td>Master's</td>\n",
       "      <td>Y</td>\n",
       "      <td>N</td>\n",
       "      <td>1121</td>\n",
       "      <td>1910</td>\n",
       "      <td>South</td>\n",
       "      <td>146298.8500</td>\n",
       "      <td>Year</td>\n",
       "      <td>N</td>\n",
       "      <td>Certified</td>\n",
       "    </tr>\n",
       "    <tr>\n",
       "      <th>25478</th>\n",
       "      <td>EZYV25479</td>\n",
       "      <td>Asia</td>\n",
       "      <td>Master's</td>\n",
       "      <td>Y</td>\n",
       "      <td>Y</td>\n",
       "      <td>1918</td>\n",
       "      <td>1887</td>\n",
       "      <td>West</td>\n",
       "      <td>86154.7700</td>\n",
       "      <td>Year</td>\n",
       "      <td>Y</td>\n",
       "      <td>Certified</td>\n",
       "    </tr>\n",
       "    <tr>\n",
       "      <th>25479</th>\n",
       "      <td>EZYV25480</td>\n",
       "      <td>Asia</td>\n",
       "      <td>Bachelor's</td>\n",
       "      <td>Y</td>\n",
       "      <td>N</td>\n",
       "      <td>3195</td>\n",
       "      <td>1960</td>\n",
       "      <td>Midwest</td>\n",
       "      <td>70876.9100</td>\n",
       "      <td>Year</td>\n",
       "      <td>Y</td>\n",
       "      <td>Certified</td>\n",
       "    </tr>\n",
       "  </tbody>\n",
       "</table>\n",
       "<p>25480 rows × 12 columns</p>\n",
       "</div>"
      ],
      "text/plain": [
       "         case_id continent education_of_employee has_job_experience  \\\n",
       "0         EZYV01      Asia           High School                  N   \n",
       "1         EZYV02      Asia              Master's                  Y   \n",
       "2         EZYV03      Asia            Bachelor's                  N   \n",
       "3         EZYV04      Asia            Bachelor's                  N   \n",
       "4         EZYV05    Africa              Master's                  Y   \n",
       "...          ...       ...                   ...                ...   \n",
       "25475  EZYV25476      Asia            Bachelor's                  Y   \n",
       "25476  EZYV25477      Asia           High School                  Y   \n",
       "25477  EZYV25478      Asia              Master's                  Y   \n",
       "25478  EZYV25479      Asia              Master's                  Y   \n",
       "25479  EZYV25480      Asia            Bachelor's                  Y   \n",
       "\n",
       "      requires_job_training  no_of_employees  yr_of_estab  \\\n",
       "0                         N            14513         2007   \n",
       "1                         N             2412         2002   \n",
       "2                         Y            44444         2008   \n",
       "3                         N               98         1897   \n",
       "4                         N             1082         2005   \n",
       "...                     ...              ...          ...   \n",
       "25475                     Y             2601         2008   \n",
       "25476                     N             3274         2006   \n",
       "25477                     N             1121         1910   \n",
       "25478                     Y             1918         1887   \n",
       "25479                     N             3195         1960   \n",
       "\n",
       "      region_of_employment  prevailing_wage unit_of_wage full_time_position  \\\n",
       "0                     West         592.2029         Hour                  Y   \n",
       "1                Northeast       83425.6500         Year                  Y   \n",
       "2                     West      122996.8600         Year                  Y   \n",
       "3                     West       83434.0300         Year                  Y   \n",
       "4                    South      149907.3900         Year                  Y   \n",
       "...                    ...              ...          ...                ...   \n",
       "25475                South       77092.5700         Year                  Y   \n",
       "25476            Northeast      279174.7900         Year                  Y   \n",
       "25477                South      146298.8500         Year                  N   \n",
       "25478                 West       86154.7700         Year                  Y   \n",
       "25479              Midwest       70876.9100         Year                  Y   \n",
       "\n",
       "      case_status  \n",
       "0          Denied  \n",
       "1       Certified  \n",
       "2          Denied  \n",
       "3          Denied  \n",
       "4       Certified  \n",
       "...           ...  \n",
       "25475   Certified  \n",
       "25476   Certified  \n",
       "25477   Certified  \n",
       "25478   Certified  \n",
       "25479   Certified  \n",
       "\n",
       "[25480 rows x 12 columns]"
      ]
     },
     "execution_count": 2,
     "metadata": {},
     "output_type": "execute_result"
    }
   ],
   "source": [
    "df = pd.read_csv(r\"C:\\Users\\mobin\\DATASIENCE\\INEURONE PROJECTS\\US-VISA\\NOTEBOOK\\EasyVisa.csv\")\n",
    "df"
   ]
  },
  {
   "cell_type": "code",
   "execution_count": 3,
   "id": "6aad9e47-4e03-4b62-b0b9-3f73f98d7d72",
   "metadata": {},
   "outputs": [
    {
     "data": {
      "text/plain": [
       "(25480, 12)"
      ]
     },
     "execution_count": 3,
     "metadata": {},
     "output_type": "execute_result"
    }
   ],
   "source": [
    "df.shape"
   ]
  },
  {
   "cell_type": "markdown",
   "id": "3f17f635-a161-41d1-b9c2-4db06e9f14e9",
   "metadata": {},
   "source": [
    "## Data Cleaning\n"
   ]
  },
  {
   "cell_type": "markdown",
   "id": "5a8e45e9-0993-43a1-b0e5-711be20724b5",
   "metadata": {},
   "source": [
    "### Handling Missing values\n",
    "* Handling Missing values\n",
    "* Handling Duplicates\n",
    "* Check data type\n",
    "* Understand the dataset"
   ]
  },
  {
   "cell_type": "markdown",
   "id": "1a43eebb-4a23-41ab-a356-55823566b3fb",
   "metadata": {},
   "source": [
    "#### Check Null Values"
   ]
  },
  {
   "cell_type": "code",
   "execution_count": 4,
   "id": "3336a387-bedb-47f7-a798-88e0c90c7e91",
   "metadata": {},
   "outputs": [
    {
     "data": {
      "text/plain": [
       "case_id                  0\n",
       "continent                0\n",
       "education_of_employee    0\n",
       "has_job_experience       0\n",
       "requires_job_training    0\n",
       "no_of_employees          0\n",
       "yr_of_estab              0\n",
       "region_of_employment     0\n",
       "prevailing_wage          0\n",
       "unit_of_wage             0\n",
       "full_time_position       0\n",
       "case_status              0\n",
       "dtype: int64"
      ]
     },
     "execution_count": 4,
     "metadata": {},
     "output_type": "execute_result"
    }
   ],
   "source": [
    "df.isnull().sum()"
   ]
  },
  {
   "cell_type": "code",
   "execution_count": 5,
   "id": "38b5ce3f-f6d8-4635-b9e4-e707ccb98429",
   "metadata": {},
   "outputs": [],
   "source": [
    "features_with_na = [feature for feature in df.columns if df[feature].isnull().sum() >=1]\n",
    "for feature in features_with_na:\n",
    "    print(feature, np.round(df[feature].isnull().mean()*100,5), '% missing values')"
   ]
  },
  {
   "cell_type": "code",
   "execution_count": 6,
   "id": "dc1ddce0-baf2-4a99-8027-9324a7ea74f2",
   "metadata": {},
   "outputs": [
    {
     "data": {
      "text/plain": [
       "[]"
      ]
     },
     "execution_count": 6,
     "metadata": {},
     "output_type": "execute_result"
    }
   ],
   "source": [
    "features_with_na"
   ]
  },
  {
   "cell_type": "markdown",
   "id": "ee150578-77ea-4cdf-8a44-7a05f060c181",
   "metadata": {},
   "source": [
    "* There are no null values"
   ]
  },
  {
   "cell_type": "markdown",
   "id": "234c8b60-7d0f-4487-b938-09bcae4756dc",
   "metadata": {},
   "source": [
    "#### Handling Duplicates"
   ]
  },
  {
   "cell_type": "code",
   "execution_count": 7,
   "id": "c5c9b2b9-9e65-4225-b3d9-a825b1cae689",
   "metadata": {},
   "outputs": [
    {
     "data": {
      "text/plain": [
       "0"
      ]
     },
     "execution_count": 7,
     "metadata": {},
     "output_type": "execute_result"
    }
   ],
   "source": [
    "df.duplicated().sum()"
   ]
  },
  {
   "cell_type": "markdown",
   "id": "4b15dfbe-d6ad-4abd-ba2a-56ff912e9692",
   "metadata": {},
   "source": [
    "* No Duplicates in the dataset"
   ]
  },
  {
   "cell_type": "code",
   "execution_count": 8,
   "id": "dcb7d2cb-7c6a-45e9-b162-5a2856879879",
   "metadata": {},
   "outputs": [],
   "source": [
    "# Remove case_id from the dataset as it cannot used in Model Training\n",
    "\n",
    "df.drop('case_id', axis = 1, inplace = True)"
   ]
  },
  {
   "cell_type": "code",
   "execution_count": 9,
   "id": "94f34353-4b87-4f5f-9ece-2a739cb5e9af",
   "metadata": {},
   "outputs": [
    {
     "data": {
      "text/html": [
       "<div>\n",
       "<style scoped>\n",
       "    .dataframe tbody tr th:only-of-type {\n",
       "        vertical-align: middle;\n",
       "    }\n",
       "\n",
       "    .dataframe tbody tr th {\n",
       "        vertical-align: top;\n",
       "    }\n",
       "\n",
       "    .dataframe thead th {\n",
       "        text-align: right;\n",
       "    }\n",
       "</style>\n",
       "<table border=\"1\" class=\"dataframe\">\n",
       "  <thead>\n",
       "    <tr style=\"text-align: right;\">\n",
       "      <th></th>\n",
       "      <th>continent</th>\n",
       "      <th>education_of_employee</th>\n",
       "      <th>has_job_experience</th>\n",
       "      <th>requires_job_training</th>\n",
       "      <th>no_of_employees</th>\n",
       "      <th>yr_of_estab</th>\n",
       "      <th>region_of_employment</th>\n",
       "      <th>prevailing_wage</th>\n",
       "      <th>unit_of_wage</th>\n",
       "      <th>full_time_position</th>\n",
       "      <th>case_status</th>\n",
       "    </tr>\n",
       "  </thead>\n",
       "  <tbody>\n",
       "    <tr>\n",
       "      <th>0</th>\n",
       "      <td>Asia</td>\n",
       "      <td>High School</td>\n",
       "      <td>N</td>\n",
       "      <td>N</td>\n",
       "      <td>14513</td>\n",
       "      <td>2007</td>\n",
       "      <td>West</td>\n",
       "      <td>592.2029</td>\n",
       "      <td>Hour</td>\n",
       "      <td>Y</td>\n",
       "      <td>Denied</td>\n",
       "    </tr>\n",
       "    <tr>\n",
       "      <th>1</th>\n",
       "      <td>Asia</td>\n",
       "      <td>Master's</td>\n",
       "      <td>Y</td>\n",
       "      <td>N</td>\n",
       "      <td>2412</td>\n",
       "      <td>2002</td>\n",
       "      <td>Northeast</td>\n",
       "      <td>83425.6500</td>\n",
       "      <td>Year</td>\n",
       "      <td>Y</td>\n",
       "      <td>Certified</td>\n",
       "    </tr>\n",
       "    <tr>\n",
       "      <th>2</th>\n",
       "      <td>Asia</td>\n",
       "      <td>Bachelor's</td>\n",
       "      <td>N</td>\n",
       "      <td>Y</td>\n",
       "      <td>44444</td>\n",
       "      <td>2008</td>\n",
       "      <td>West</td>\n",
       "      <td>122996.8600</td>\n",
       "      <td>Year</td>\n",
       "      <td>Y</td>\n",
       "      <td>Denied</td>\n",
       "    </tr>\n",
       "    <tr>\n",
       "      <th>3</th>\n",
       "      <td>Asia</td>\n",
       "      <td>Bachelor's</td>\n",
       "      <td>N</td>\n",
       "      <td>N</td>\n",
       "      <td>98</td>\n",
       "      <td>1897</td>\n",
       "      <td>West</td>\n",
       "      <td>83434.0300</td>\n",
       "      <td>Year</td>\n",
       "      <td>Y</td>\n",
       "      <td>Denied</td>\n",
       "    </tr>\n",
       "    <tr>\n",
       "      <th>4</th>\n",
       "      <td>Africa</td>\n",
       "      <td>Master's</td>\n",
       "      <td>Y</td>\n",
       "      <td>N</td>\n",
       "      <td>1082</td>\n",
       "      <td>2005</td>\n",
       "      <td>South</td>\n",
       "      <td>149907.3900</td>\n",
       "      <td>Year</td>\n",
       "      <td>Y</td>\n",
       "      <td>Certified</td>\n",
       "    </tr>\n",
       "    <tr>\n",
       "      <th>...</th>\n",
       "      <td>...</td>\n",
       "      <td>...</td>\n",
       "      <td>...</td>\n",
       "      <td>...</td>\n",
       "      <td>...</td>\n",
       "      <td>...</td>\n",
       "      <td>...</td>\n",
       "      <td>...</td>\n",
       "      <td>...</td>\n",
       "      <td>...</td>\n",
       "      <td>...</td>\n",
       "    </tr>\n",
       "    <tr>\n",
       "      <th>25475</th>\n",
       "      <td>Asia</td>\n",
       "      <td>Bachelor's</td>\n",
       "      <td>Y</td>\n",
       "      <td>Y</td>\n",
       "      <td>2601</td>\n",
       "      <td>2008</td>\n",
       "      <td>South</td>\n",
       "      <td>77092.5700</td>\n",
       "      <td>Year</td>\n",
       "      <td>Y</td>\n",
       "      <td>Certified</td>\n",
       "    </tr>\n",
       "    <tr>\n",
       "      <th>25476</th>\n",
       "      <td>Asia</td>\n",
       "      <td>High School</td>\n",
       "      <td>Y</td>\n",
       "      <td>N</td>\n",
       "      <td>3274</td>\n",
       "      <td>2006</td>\n",
       "      <td>Northeast</td>\n",
       "      <td>279174.7900</td>\n",
       "      <td>Year</td>\n",
       "      <td>Y</td>\n",
       "      <td>Certified</td>\n",
       "    </tr>\n",
       "    <tr>\n",
       "      <th>25477</th>\n",
       "      <td>Asia</td>\n",
       "      <td>Master's</td>\n",
       "      <td>Y</td>\n",
       "      <td>N</td>\n",
       "      <td>1121</td>\n",
       "      <td>1910</td>\n",
       "      <td>South</td>\n",
       "      <td>146298.8500</td>\n",
       "      <td>Year</td>\n",
       "      <td>N</td>\n",
       "      <td>Certified</td>\n",
       "    </tr>\n",
       "    <tr>\n",
       "      <th>25478</th>\n",
       "      <td>Asia</td>\n",
       "      <td>Master's</td>\n",
       "      <td>Y</td>\n",
       "      <td>Y</td>\n",
       "      <td>1918</td>\n",
       "      <td>1887</td>\n",
       "      <td>West</td>\n",
       "      <td>86154.7700</td>\n",
       "      <td>Year</td>\n",
       "      <td>Y</td>\n",
       "      <td>Certified</td>\n",
       "    </tr>\n",
       "    <tr>\n",
       "      <th>25479</th>\n",
       "      <td>Asia</td>\n",
       "      <td>Bachelor's</td>\n",
       "      <td>Y</td>\n",
       "      <td>N</td>\n",
       "      <td>3195</td>\n",
       "      <td>1960</td>\n",
       "      <td>Midwest</td>\n",
       "      <td>70876.9100</td>\n",
       "      <td>Year</td>\n",
       "      <td>Y</td>\n",
       "      <td>Certified</td>\n",
       "    </tr>\n",
       "  </tbody>\n",
       "</table>\n",
       "<p>25480 rows × 11 columns</p>\n",
       "</div>"
      ],
      "text/plain": [
       "      continent education_of_employee has_job_experience  \\\n",
       "0          Asia           High School                  N   \n",
       "1          Asia              Master's                  Y   \n",
       "2          Asia            Bachelor's                  N   \n",
       "3          Asia            Bachelor's                  N   \n",
       "4        Africa              Master's                  Y   \n",
       "...         ...                   ...                ...   \n",
       "25475      Asia            Bachelor's                  Y   \n",
       "25476      Asia           High School                  Y   \n",
       "25477      Asia              Master's                  Y   \n",
       "25478      Asia              Master's                  Y   \n",
       "25479      Asia            Bachelor's                  Y   \n",
       "\n",
       "      requires_job_training  no_of_employees  yr_of_estab  \\\n",
       "0                         N            14513         2007   \n",
       "1                         N             2412         2002   \n",
       "2                         Y            44444         2008   \n",
       "3                         N               98         1897   \n",
       "4                         N             1082         2005   \n",
       "...                     ...              ...          ...   \n",
       "25475                     Y             2601         2008   \n",
       "25476                     N             3274         2006   \n",
       "25477                     N             1121         1910   \n",
       "25478                     Y             1918         1887   \n",
       "25479                     N             3195         1960   \n",
       "\n",
       "      region_of_employment  prevailing_wage unit_of_wage full_time_position  \\\n",
       "0                     West         592.2029         Hour                  Y   \n",
       "1                Northeast       83425.6500         Year                  Y   \n",
       "2                     West      122996.8600         Year                  Y   \n",
       "3                     West       83434.0300         Year                  Y   \n",
       "4                    South      149907.3900         Year                  Y   \n",
       "...                    ...              ...          ...                ...   \n",
       "25475                South       77092.5700         Year                  Y   \n",
       "25476            Northeast      279174.7900         Year                  Y   \n",
       "25477                South      146298.8500         Year                  N   \n",
       "25478                 West       86154.7700         Year                  Y   \n",
       "25479              Midwest       70876.9100         Year                  Y   \n",
       "\n",
       "      case_status  \n",
       "0          Denied  \n",
       "1       Certified  \n",
       "2          Denied  \n",
       "3          Denied  \n",
       "4       Certified  \n",
       "...           ...  \n",
       "25475   Certified  \n",
       "25476   Certified  \n",
       "25477   Certified  \n",
       "25478   Certified  \n",
       "25479   Certified  \n",
       "\n",
       "[25480 rows x 11 columns]"
      ]
     },
     "execution_count": 9,
     "metadata": {},
     "output_type": "execute_result"
    }
   ],
   "source": [
    "df"
   ]
  },
  {
   "cell_type": "markdown",
   "id": "2a269928-829b-4762-bb3c-319e24146bbc",
   "metadata": {},
   "source": [
    "## Feature Engineering"
   ]
  },
  {
   "cell_type": "markdown",
   "id": "3a2e53b9-0253-4953-b737-11c18f4507e5",
   "metadata": {},
   "source": [
    "#### Feature Extraction"
   ]
  },
  {
   "cell_type": "code",
   "execution_count": 10,
   "id": "c572faf7-c29c-4912-b0cb-f338c6a08ef5",
   "metadata": {},
   "outputs": [
    {
     "data": {
      "text/html": [
       "<div>\n",
       "<style scoped>\n",
       "    .dataframe tbody tr th:only-of-type {\n",
       "        vertical-align: middle;\n",
       "    }\n",
       "\n",
       "    .dataframe tbody tr th {\n",
       "        vertical-align: top;\n",
       "    }\n",
       "\n",
       "    .dataframe thead th {\n",
       "        text-align: right;\n",
       "    }\n",
       "</style>\n",
       "<table border=\"1\" class=\"dataframe\">\n",
       "  <thead>\n",
       "    <tr style=\"text-align: right;\">\n",
       "      <th></th>\n",
       "      <th>continent</th>\n",
       "      <th>education_of_employee</th>\n",
       "      <th>has_job_experience</th>\n",
       "      <th>requires_job_training</th>\n",
       "      <th>no_of_employees</th>\n",
       "      <th>yr_of_estab</th>\n",
       "      <th>region_of_employment</th>\n",
       "      <th>prevailing_wage</th>\n",
       "      <th>unit_of_wage</th>\n",
       "      <th>full_time_position</th>\n",
       "      <th>case_status</th>\n",
       "    </tr>\n",
       "  </thead>\n",
       "  <tbody>\n",
       "    <tr>\n",
       "      <th>0</th>\n",
       "      <td>Asia</td>\n",
       "      <td>High School</td>\n",
       "      <td>N</td>\n",
       "      <td>N</td>\n",
       "      <td>14513</td>\n",
       "      <td>2007</td>\n",
       "      <td>West</td>\n",
       "      <td>592.2029</td>\n",
       "      <td>Hour</td>\n",
       "      <td>Y</td>\n",
       "      <td>Denied</td>\n",
       "    </tr>\n",
       "    <tr>\n",
       "      <th>1</th>\n",
       "      <td>Asia</td>\n",
       "      <td>Master's</td>\n",
       "      <td>Y</td>\n",
       "      <td>N</td>\n",
       "      <td>2412</td>\n",
       "      <td>2002</td>\n",
       "      <td>Northeast</td>\n",
       "      <td>83425.6500</td>\n",
       "      <td>Year</td>\n",
       "      <td>Y</td>\n",
       "      <td>Certified</td>\n",
       "    </tr>\n",
       "    <tr>\n",
       "      <th>2</th>\n",
       "      <td>Asia</td>\n",
       "      <td>Bachelor's</td>\n",
       "      <td>N</td>\n",
       "      <td>Y</td>\n",
       "      <td>44444</td>\n",
       "      <td>2008</td>\n",
       "      <td>West</td>\n",
       "      <td>122996.8600</td>\n",
       "      <td>Year</td>\n",
       "      <td>Y</td>\n",
       "      <td>Denied</td>\n",
       "    </tr>\n",
       "    <tr>\n",
       "      <th>3</th>\n",
       "      <td>Asia</td>\n",
       "      <td>Bachelor's</td>\n",
       "      <td>N</td>\n",
       "      <td>N</td>\n",
       "      <td>98</td>\n",
       "      <td>1897</td>\n",
       "      <td>West</td>\n",
       "      <td>83434.0300</td>\n",
       "      <td>Year</td>\n",
       "      <td>Y</td>\n",
       "      <td>Denied</td>\n",
       "    </tr>\n",
       "    <tr>\n",
       "      <th>4</th>\n",
       "      <td>Africa</td>\n",
       "      <td>Master's</td>\n",
       "      <td>Y</td>\n",
       "      <td>N</td>\n",
       "      <td>1082</td>\n",
       "      <td>2005</td>\n",
       "      <td>South</td>\n",
       "      <td>149907.3900</td>\n",
       "      <td>Year</td>\n",
       "      <td>Y</td>\n",
       "      <td>Certified</td>\n",
       "    </tr>\n",
       "  </tbody>\n",
       "</table>\n",
       "</div>"
      ],
      "text/plain": [
       "  continent education_of_employee has_job_experience requires_job_training  \\\n",
       "0      Asia           High School                  N                     N   \n",
       "1      Asia              Master's                  Y                     N   \n",
       "2      Asia            Bachelor's                  N                     Y   \n",
       "3      Asia            Bachelor's                  N                     N   \n",
       "4    Africa              Master's                  Y                     N   \n",
       "\n",
       "   no_of_employees  yr_of_estab region_of_employment  prevailing_wage  \\\n",
       "0            14513         2007                 West         592.2029   \n",
       "1             2412         2002            Northeast       83425.6500   \n",
       "2            44444         2008                 West      122996.8600   \n",
       "3               98         1897                 West       83434.0300   \n",
       "4             1082         2005                South      149907.3900   \n",
       "\n",
       "  unit_of_wage full_time_position case_status  \n",
       "0         Hour                  Y      Denied  \n",
       "1         Year                  Y   Certified  \n",
       "2         Year                  Y      Denied  \n",
       "3         Year                  Y      Denied  \n",
       "4         Year                  Y   Certified  "
      ]
     },
     "execution_count": 10,
     "metadata": {},
     "output_type": "execute_result"
    }
   ],
   "source": [
    "df.head()"
   ]
  },
  {
   "cell_type": "code",
   "execution_count": 11,
   "id": "ef8dcb16-f041-41d1-9eea-fd7171454d71",
   "metadata": {},
   "outputs": [],
   "source": [
    "# importing date class from datetime module\n",
    "from datetime import date\n",
    "\n",
    "# creating the date object of today's date\n",
    "todays_date = date.today()\n",
    "current_year = todays_date.year"
   ]
  },
  {
   "cell_type": "code",
   "execution_count": 12,
   "id": "16dce4bc-5c53-4c4b-a830-39e244b482aa",
   "metadata": {},
   "outputs": [
    {
     "data": {
      "text/plain": [
       "2024"
      ]
     },
     "execution_count": 12,
     "metadata": {},
     "output_type": "execute_result"
    }
   ],
   "source": [
    "current_year"
   ]
  },
  {
   "cell_type": "code",
   "execution_count": 13,
   "id": "eca93817-0a37-40b4-b55b-119bab40bf88",
   "metadata": {},
   "outputs": [
    {
     "data": {
      "text/plain": [
       "datetime.date(2024, 8, 12)"
      ]
     },
     "execution_count": 13,
     "metadata": {},
     "output_type": "execute_result"
    }
   ],
   "source": [
    "todays_date"
   ]
  },
  {
   "cell_type": "markdown",
   "id": "ce93b087-e742-4650-84a5-6310bcb0577f",
   "metadata": {},
   "source": [
    "#### Subtract current year with year of estab to get company's age"
   ]
  },
  {
   "cell_type": "code",
   "execution_count": 14,
   "id": "a345ac6e-5277-424b-b489-33005d78c8be",
   "metadata": {},
   "outputs": [
    {
     "data": {
      "text/html": [
       "<div>\n",
       "<style scoped>\n",
       "    .dataframe tbody tr th:only-of-type {\n",
       "        vertical-align: middle;\n",
       "    }\n",
       "\n",
       "    .dataframe tbody tr th {\n",
       "        vertical-align: top;\n",
       "    }\n",
       "\n",
       "    .dataframe thead th {\n",
       "        text-align: right;\n",
       "    }\n",
       "</style>\n",
       "<table border=\"1\" class=\"dataframe\">\n",
       "  <thead>\n",
       "    <tr style=\"text-align: right;\">\n",
       "      <th></th>\n",
       "      <th>continent</th>\n",
       "      <th>education_of_employee</th>\n",
       "      <th>has_job_experience</th>\n",
       "      <th>requires_job_training</th>\n",
       "      <th>no_of_employees</th>\n",
       "      <th>yr_of_estab</th>\n",
       "      <th>region_of_employment</th>\n",
       "      <th>prevailing_wage</th>\n",
       "      <th>unit_of_wage</th>\n",
       "      <th>full_time_position</th>\n",
       "      <th>case_status</th>\n",
       "      <th>company_age</th>\n",
       "    </tr>\n",
       "  </thead>\n",
       "  <tbody>\n",
       "    <tr>\n",
       "      <th>0</th>\n",
       "      <td>Asia</td>\n",
       "      <td>High School</td>\n",
       "      <td>N</td>\n",
       "      <td>N</td>\n",
       "      <td>14513</td>\n",
       "      <td>2007</td>\n",
       "      <td>West</td>\n",
       "      <td>592.2029</td>\n",
       "      <td>Hour</td>\n",
       "      <td>Y</td>\n",
       "      <td>Denied</td>\n",
       "      <td>17</td>\n",
       "    </tr>\n",
       "    <tr>\n",
       "      <th>1</th>\n",
       "      <td>Asia</td>\n",
       "      <td>Master's</td>\n",
       "      <td>Y</td>\n",
       "      <td>N</td>\n",
       "      <td>2412</td>\n",
       "      <td>2002</td>\n",
       "      <td>Northeast</td>\n",
       "      <td>83425.6500</td>\n",
       "      <td>Year</td>\n",
       "      <td>Y</td>\n",
       "      <td>Certified</td>\n",
       "      <td>22</td>\n",
       "    </tr>\n",
       "    <tr>\n",
       "      <th>2</th>\n",
       "      <td>Asia</td>\n",
       "      <td>Bachelor's</td>\n",
       "      <td>N</td>\n",
       "      <td>Y</td>\n",
       "      <td>44444</td>\n",
       "      <td>2008</td>\n",
       "      <td>West</td>\n",
       "      <td>122996.8600</td>\n",
       "      <td>Year</td>\n",
       "      <td>Y</td>\n",
       "      <td>Denied</td>\n",
       "      <td>16</td>\n",
       "    </tr>\n",
       "    <tr>\n",
       "      <th>3</th>\n",
       "      <td>Asia</td>\n",
       "      <td>Bachelor's</td>\n",
       "      <td>N</td>\n",
       "      <td>N</td>\n",
       "      <td>98</td>\n",
       "      <td>1897</td>\n",
       "      <td>West</td>\n",
       "      <td>83434.0300</td>\n",
       "      <td>Year</td>\n",
       "      <td>Y</td>\n",
       "      <td>Denied</td>\n",
       "      <td>127</td>\n",
       "    </tr>\n",
       "    <tr>\n",
       "      <th>4</th>\n",
       "      <td>Africa</td>\n",
       "      <td>Master's</td>\n",
       "      <td>Y</td>\n",
       "      <td>N</td>\n",
       "      <td>1082</td>\n",
       "      <td>2005</td>\n",
       "      <td>South</td>\n",
       "      <td>149907.3900</td>\n",
       "      <td>Year</td>\n",
       "      <td>Y</td>\n",
       "      <td>Certified</td>\n",
       "      <td>19</td>\n",
       "    </tr>\n",
       "  </tbody>\n",
       "</table>\n",
       "</div>"
      ],
      "text/plain": [
       "  continent education_of_employee has_job_experience requires_job_training  \\\n",
       "0      Asia           High School                  N                     N   \n",
       "1      Asia              Master's                  Y                     N   \n",
       "2      Asia            Bachelor's                  N                     Y   \n",
       "3      Asia            Bachelor's                  N                     N   \n",
       "4    Africa              Master's                  Y                     N   \n",
       "\n",
       "   no_of_employees  yr_of_estab region_of_employment  prevailing_wage  \\\n",
       "0            14513         2007                 West         592.2029   \n",
       "1             2412         2002            Northeast       83425.6500   \n",
       "2            44444         2008                 West      122996.8600   \n",
       "3               98         1897                 West       83434.0300   \n",
       "4             1082         2005                South      149907.3900   \n",
       "\n",
       "  unit_of_wage full_time_position case_status  company_age  \n",
       "0         Hour                  Y      Denied           17  \n",
       "1         Year                  Y   Certified           22  \n",
       "2         Year                  Y      Denied           16  \n",
       "3         Year                  Y      Denied          127  \n",
       "4         Year                  Y   Certified           19  "
      ]
     },
     "execution_count": 14,
     "metadata": {},
     "output_type": "execute_result"
    }
   ],
   "source": [
    "df['company_age'] = current_year - df['yr_of_estab']\n",
    "df.head()"
   ]
  },
  {
   "cell_type": "code",
   "execution_count": 15,
   "id": "7b671120-ba14-468c-bb8d-cadcc9c44485",
   "metadata": {},
   "outputs": [],
   "source": [
    "df.drop('yr_of_estab', inplace = True, axis = 1)"
   ]
  },
  {
   "cell_type": "markdown",
   "id": "8a9fb5e5-28a3-4705-b811-f848a3dd1dfc",
   "metadata": {},
   "source": [
    "## Type of Features"
   ]
  },
  {
   "cell_type": "markdown",
   "id": "7b97c5a1-7298-4901-b8c7-12cb6727d7b0",
   "metadata": {},
   "source": [
    "#### Numeric Features"
   ]
  },
  {
   "cell_type": "code",
   "execution_count": 16,
   "id": "e0ddd027-0734-440b-9a1c-fa5a613414c5",
   "metadata": {},
   "outputs": [
    {
     "name": "stdout",
     "output_type": "stream",
     "text": [
      " Number of Numerical Features : 3\n"
     ]
    }
   ],
   "source": [
    "numeric_feature = [feature for feature in df.columns if df[feature].dtype != \"O\"]\n",
    "print(\" Number of Numerical Features :\", len(numeric_feature))"
   ]
  },
  {
   "cell_type": "markdown",
   "id": "e8c8eac5-2458-4d64-afb9-d2f76ba95b8a",
   "metadata": {},
   "source": [
    "#### Categorical Features"
   ]
  },
  {
   "cell_type": "code",
   "execution_count": 17,
   "id": "4c7ca63a-5327-46c3-bc75-41b31c2af947",
   "metadata": {},
   "outputs": [
    {
     "name": "stdout",
     "output_type": "stream",
     "text": [
      " Number of categorical Features : 8\n"
     ]
    }
   ],
   "source": [
    "categorical_feature = [feature for feature in df.columns if df[feature].dtype == \"O\"]\n",
    "print(\" Number of categorical Features :\", len(categorical_feature))"
   ]
  },
  {
   "cell_type": "markdown",
   "id": "919eec96-37ad-43c0-90a0-da6f08b64190",
   "metadata": {},
   "source": [
    "#### Discrete Feature"
   ]
  },
  {
   "cell_type": "code",
   "execution_count": 18,
   "id": "e1e5866b-1997-43ee-8013-be8284f793de",
   "metadata": {},
   "outputs": [
    {
     "name": "stdout",
     "output_type": "stream",
     "text": [
      " Number of discrete Features : 0\n"
     ]
    }
   ],
   "source": [
    "discrete_feature = [feature for feature in numeric_feature if len(df[feature].unique()) <= 25]\n",
    "print(\" Number of discrete Features :\", len(discrete_feature))"
   ]
  },
  {
   "cell_type": "markdown",
   "id": "ddb13adc-c8f0-4aa9-951c-2dc736b124e8",
   "metadata": {},
   "source": [
    "#### continous features"
   ]
  },
  {
   "cell_type": "code",
   "execution_count": 19,
   "id": "7a6f876b-8704-4325-adf7-c3e8d98f2dae",
   "metadata": {},
   "outputs": [
    {
     "name": "stdout",
     "output_type": "stream",
     "text": [
      " Number of continous Features : 3\n"
     ]
    }
   ],
   "source": [
    "continous_features = [feature for feature in numeric_feature if len(df[feature].unique()) >= 25]\n",
    "print(\" Number of continous Features :\", len(continous_features))"
   ]
  },
  {
   "cell_type": "markdown",
   "id": "e37c7438-21e1-402c-9edf-6340a97e6740",
   "metadata": {},
   "source": [
    "## Split X and Y\n",
    "* Split Dataframe to X and y\n",
    "* Here we set a variable X i.e, independent columns, and a variable y i.e, dependent column as the “Case_Status” column."
   ]
  },
  {
   "cell_type": "code",
   "execution_count": 20,
   "id": "fc83c2b0-cfaa-4b2e-bc8b-29d238a14b43",
   "metadata": {},
   "outputs": [],
   "source": [
    "X = df.drop('case_status', axis = 1)\n",
    "y = df['case_status']"
   ]
  },
  {
   "cell_type": "code",
   "execution_count": 21,
   "id": "122d047b-0c86-463f-933e-5004d58f1a5d",
   "metadata": {},
   "outputs": [
    {
     "data": {
      "text/plain": [
       "0           Denied\n",
       "1        Certified\n",
       "2           Denied\n",
       "3           Denied\n",
       "4        Certified\n",
       "           ...    \n",
       "25475    Certified\n",
       "25476    Certified\n",
       "25477    Certified\n",
       "25478    Certified\n",
       "25479    Certified\n",
       "Name: case_status, Length: 25480, dtype: object"
      ]
     },
     "execution_count": 21,
     "metadata": {},
     "output_type": "execute_result"
    }
   ],
   "source": [
    "y"
   ]
  },
  {
   "cell_type": "code",
   "execution_count": 22,
   "id": "3b71711c-9e6d-462c-8044-1abcc7e71f6a",
   "metadata": {},
   "outputs": [],
   "source": [
    "# If the target column has Denied it is encoded as 1 others as 0\n",
    "y = np.where(y=='Denied', 1, 0)"
   ]
  },
  {
   "cell_type": "code",
   "execution_count": 23,
   "id": "9c60ca08-8132-4848-ba2a-080245e488ce",
   "metadata": {},
   "outputs": [
    {
     "data": {
      "text/plain": [
       "array([1, 0, 1, ..., 0, 0, 0])"
      ]
     },
     "execution_count": 23,
     "metadata": {},
     "output_type": "execute_result"
    }
   ],
   "source": [
    "y"
   ]
  },
  {
   "cell_type": "markdown",
   "id": "0be1fa1d-bfc7-4295-858f-77904929e5a2",
   "metadata": {},
   "source": [
    "## Feature Transformation"
   ]
  },
  {
   "cell_type": "code",
   "execution_count": 24,
   "id": "73ae3184-7317-4a98-a117-e3db3e8de7ef",
   "metadata": {},
   "outputs": [
    {
     "data": {
      "image/png": "[encoded data removed]",
      "text/plain": [
       "<Figure size 1400x700 with 3 Axes>"
      ]
     },
     "metadata": {},
     "output_type": "display_data"
    }
   ],
   "source": [
    "plt.figure(figsize=(14,7))\n",
    "for i in range(0, len(numeric_feature)):\n",
    "    plt.subplot(2,2,i+1)\n",
    "    sns.histplot(x = X[numeric_feature[i]], kde = True)\n",
    "    plt.tight_layout()\n"
   ]
  },
  {
   "cell_type": "markdown",
   "id": "56941a5f-6d82-4762-ba96-d4562dd5b27b",
   "metadata": {},
   "source": [
    "* No of employees and Copmany age column is skewed\n",
    "* Apply a power transform featurewise to make data more Gaussian-like."
   ]
  },
  {
   "cell_type": "markdown",
   "id": "7c117bbd-985d-44c0-82cd-0455974d6f85",
   "metadata": {},
   "source": [
    "Power transforms are a family of parametric, monotonic transformations that are applied to make data more Gaussian-like. This is useful for modeling issues related to heteroscedasticity (non-constant variance), or other situations where normality is desired."
   ]
  },
  {
   "cell_type": "markdown",
   "id": "27513c8a-2d16-4808-a803-ada1c184498d",
   "metadata": {},
   "source": [
    "Currently, PowerTransformer supports the Box-Cox transform and the Yeo-Johnson transform."
   ]
  },
  {
   "cell_type": "markdown",
   "id": "43e43ca0-7f1d-442c-96bd-aaceddcf4e53",
   "metadata": {},
   "source": [
    "#### Checking Skewness"
   ]
  },
  {
   "cell_type": "markdown",
   "id": "761a73a8-acdf-4adc-9ade-ca23f050d83a",
   "metadata": {},
   "source": [
    "#### What is Skewness ?\n",
    "\n",
    "* Skewness refers to a distortion or asymmetry that deviates from the symmetrical bell curve, or normal distribution, in a set of data. If the curve is shifted to the left or to the right, it is said to be skewed. Skewness can be quantified as a representation of the extent to which a given distribution varies from a normal distribution. A normal distribution has a skew of zero"
   ]
  },
  {
   "cell_type": "code",
   "execution_count": 25,
   "id": "8cbdefa6-b347-49d9-970a-9ed9f5c817f7",
   "metadata": {},
   "outputs": [
    {
     "data": {
      "text/plain": [
       "no_of_employees    12.265260\n",
       "prevailing_wage     0.755776\n",
       "company_age         2.037301\n",
       "dtype: float64"
      ]
     },
     "execution_count": 25,
     "metadata": {},
     "output_type": "execute_result"
    }
   ],
   "source": [
    "# cheacking skewness\n",
    "X[numeric_feature].skew()"
   ]
  },
  {
   "cell_type": "markdown",
   "id": "14032003-e143-4899-82a2-2656e6e5c1aa",
   "metadata": {},
   "source": [
    "* Positiviely Skewed : company_age, no_of_employees.\n",
    "* We can handle outliers and then check the skewness."
   ]
  },
  {
   "cell_type": "markdown",
   "id": "52418b27-4344-4162-8a49-d29d15a8a006",
   "metadata": {},
   "source": [
    "## Apply Power Transformer to Check if it can reduces the outliers"
   ]
  },
  {
   "cell_type": "code",
   "execution_count": 26,
   "id": "ca087f99-d483-4fd4-994e-8cc580190f47",
   "metadata": {},
   "outputs": [],
   "source": [
    "from sklearn.preprocessing import PowerTransformer"
   ]
  },
  {
   "cell_type": "code",
   "execution_count": 27,
   "id": "39744b85-40da-4683-91d3-3c4b4e237da3",
   "metadata": {},
   "outputs": [],
   "source": [
    "pt = PowerTransformer()\n",
    "transform_features = ['company_age','no_of_employees']\n",
    "X_copy = pt.fit_transform(X[transform_features])"
   ]
  },
  {
   "cell_type": "code",
   "execution_count": 28,
   "id": "775f0f93-1814-4507-be69-24daba51f404",
   "metadata": {},
   "outputs": [],
   "source": [
    "X_copy = pd.DataFrame(X_copy, columns=transform_features)"
   ]
  },
  {
   "cell_type": "code",
   "execution_count": 29,
   "id": "acb4cbf2-2e39-4ff4-b98f-a02145885fbe",
   "metadata": {},
   "outputs": [
    {
     "data": {
      "image/png": "[encoded data removed]",
      "text/plain": [
       "<Figure size 1200x500 with 2 Axes>"
      ]
     },
     "metadata": {},
     "output_type": "display_data"
    }
   ],
   "source": [
    "plt.figure(figsize=(12, 5))\n",
    "for i in range(0, len(transform_features)):\n",
    "    plt.subplot(1, 2, i+1)\n",
    "    sns.histplot(x=X_copy[transform_features[i]], color='indianred')\n",
    "    plt.xlabel(i)\n",
    "    plt.tight_layout()"
   ]
  },
  {
   "cell_type": "code",
   "execution_count": 30,
   "id": "206ae790-2fb8-41e4-8dc9-5068894cab37",
   "metadata": {},
   "outputs": [
    {
     "data": {
      "text/plain": [
       "company_age        0.103264\n",
       "no_of_employees    0.399339\n",
       "dtype: float64"
      ]
     },
     "execution_count": 30,
     "metadata": {},
     "output_type": "execute_result"
    }
   ],
   "source": [
    "X_copy.skew()"
   ]
  },
  {
   "cell_type": "markdown",
   "id": "6ee111cb-55e4-4d6d-8dfe-f4f936849157",
   "metadata": {},
   "source": [
    "* Here default Yeo-Johnson is used and it supports both positive or negative data for transformation.\n",
    "* So Power Transformer with yeo-johnson can be used"
   ]
  },
  {
   "cell_type": "code",
   "execution_count": 31,
   "id": "c354a3f8-e97a-4137-9f9b-fac371a9efe8",
   "metadata": {},
   "outputs": [
    {
     "name": "stdout",
     "output_type": "stream",
     "text": [
      "continent : 6\n",
      "education_of_employee : 4\n",
      "has_job_experience : 2\n",
      "requires_job_training : 2\n",
      "region_of_employment : 5\n",
      "unit_of_wage : 4\n",
      "full_time_position : 2\n",
      "case_status : 2\n"
     ]
    }
   ],
   "source": [
    "for feature in categorical_feature:\n",
    "    print(feature, ':', df[feature].nunique())"
   ]
  },
  {
   "cell_type": "markdown",
   "id": "d959bf06-3b8b-453b-b885-d110594b9d12",
   "metadata": {},
   "source": [
    "## Feature Encoding and Scaling"
   ]
  },
  {
   "cell_type": "markdown",
   "id": "be5933f9-26bc-4d7c-a499-b672406f9f65",
   "metadata": {},
   "source": [
    "#### One Hot Encoding for Columns which had lesser unique values and not ordinal\n",
    "\n",
    "* One hot encoding is a process by which categorical variables are converted into a form that could be provided to ML algorithms to do a better job in prediction.\n",
    "\n",
    "#### Ordinal Encoding for Columns which has many unique categories\n",
    "\n",
    "* Ordinal encoding is used here as label encoder is supported for column transformer.\n",
    "* Ordinal encoding is used for Ordinal Variable. Variable comprises a finite set of discrete values with a ranked ordering between values.\n",
    "\n",
    "#### Standard Scaler\n",
    "\n",
    "* Standardize features by removing the mean and scaling to unit variance.\n",
    "\n",
    "#### Power Transformer\n",
    "\n",
    "* Power transforms are a technique for transforming numerical input or output variables to have a Gaussian or more-Gaussian-like probability distribution."
   ]
  },
  {
   "cell_type": "markdown",
   "id": "e34f3ac6-41f8-4fb1-9624-c21431c0af76",
   "metadata": {},
   "source": [
    "#### Selecting number features for preprocessing"
   ]
  },
  {
   "cell_type": "code",
   "execution_count": 32,
   "id": "d41d5a16-f59f-4fa2-8a21-fab1aa119929",
   "metadata": {},
   "outputs": [
    {
     "data": {
      "text/plain": [
       "['no_of_employees', 'prevailing_wage', 'company_age']"
      ]
     },
     "execution_count": 32,
     "metadata": {},
     "output_type": "execute_result"
    }
   ],
   "source": [
    "num_features = list(X.select_dtypes(exclude='object'))\n",
    "num_features"
   ]
  },
  {
   "cell_type": "markdown",
   "id": "e1c58f1d-0f4d-4778-99f6-2358b074a449",
   "metadata": {},
   "source": [
    "## Preprocessing using Column Transformer"
   ]
  },
  {
   "cell_type": "code",
   "execution_count": 33,
   "id": "c0f2151e-3232-4713-83a1-5d3d905eef83",
   "metadata": {},
   "outputs": [],
   "source": [
    "# Create Column Transformer with 3 types of transformers\n",
    "or_columns = ['has_job_experience','requires_job_training','full_time_position','education_of_employee']\n",
    "oh_columns = ['continent','unit_of_wage','region_of_employment']\n",
    "transform_columns= ['no_of_employees','company_age']"
   ]
  },
  {
   "cell_type": "code",
   "execution_count": 34,
   "id": "020ea8a6-50ee-4f21-9fdb-6302948b5cbd",
   "metadata": {},
   "outputs": [],
   "source": [
    "from sklearn.preprocessing import OneHotEncoder, OrdinalEncoder, StandardScaler, PowerTransformer\n",
    "from sklearn.pipeline import Pipeline\n",
    "from sklearn.compose import ColumnTransformer\n",
    "\n",
    "numeric_transformer = StandardScaler()\n",
    "ordinal_encoder = OrdinalEncoder()\n",
    "oh_encoder = OneHotEncoder()\n",
    "\n",
    "\n",
    "transform_pipeline = Pipeline(\n",
    "    steps=[\n",
    "        ('transformer', PowerTransformer())\n",
    "    ]\n",
    ")\n",
    "\n",
    "preprocessor = ColumnTransformer(\n",
    "    [\n",
    "        \n",
    "        (\"Ordinal_encoder\", ordinal_encoder, or_columns),\n",
    "        (\"one_hot_encoder\", oh_encoder, oh_columns),\n",
    "        ('Transformers', transform_pipeline, transform_columns),\n",
    "        ('StanderScaler', numeric_transformer, num_features)\n",
    "    ]\n",
    ")\n",
    "\n",
    "\n"
   ]
  },
  {
   "cell_type": "code",
   "execution_count": 35,
   "id": "53b05eec-feab-46a0-8da2-462f46877e2a",
   "metadata": {},
   "outputs": [],
   "source": [
    "X = preprocessor.fit_transform(X)"
   ]
  },
  {
   "cell_type": "code",
   "execution_count": 36,
   "id": "55d188fe-acb2-4300-8ccc-c6c662150fa2",
   "metadata": {},
   "outputs": [
    {
     "data": {
      "text/plain": [
       "array([[ 0.        ,  0.        ,  1.        , ...,  0.38666657,\n",
       "        -1.39853722, -0.65122993],\n",
       "       [ 1.        ,  0.        ,  1.        , ..., -0.14228155,\n",
       "         0.1698353 , -0.53321103],\n",
       "       [ 0.        ,  1.        ,  1.        , ...,  1.69498375,\n",
       "         0.91907852, -0.6748337 ],\n",
       "       ...,\n",
       "       [ 1.        ,  0.        ,  0.        , ..., -0.19871259,\n",
       "         1.36027953,  1.63833662],\n",
       "       [ 1.        ,  1.        ,  1.        , ..., -0.16387483,\n",
       "         0.22150859,  2.18122353],\n",
       "       [ 1.        ,  0.        ,  1.        , ..., -0.10805575,\n",
       "        -0.06776315,  0.45814768]])"
      ]
     },
     "execution_count": 36,
     "metadata": {},
     "output_type": "execute_result"
    }
   ],
   "source": [
    "X"
   ]
  },
  {
   "cell_type": "markdown",
   "id": "4e788478-0f7f-4e75-8b3e-c4ad3429d4bf",
   "metadata": {},
   "source": [
    "## Classification"
   ]
  },
  {
   "cell_type": "code",
   "execution_count": 37,
   "id": "2959db6c-b8af-41b8-9ac3-b270feb8335b",
   "metadata": {},
   "outputs": [],
   "source": [
    "from imblearn.combine import SMOTEENN, SMOTETomek"
   ]
  },
  {
   "cell_type": "code",
   "execution_count": 38,
   "id": "2c67bd8b-332f-449e-8a3a-26cf09513308",
   "metadata": {},
   "outputs": [],
   "source": [
    "smt = SMOTEENN(random_state=42, sampling_strategy='minority')\n",
    "X_res, y_res = smt.fit_resample(X,y)"
   ]
  },
  {
   "cell_type": "markdown",
   "id": "5bc3299c-b430-4577-be8e-a36804865bba",
   "metadata": {},
   "source": [
    "## Train Test Split\n",
    "* The train-test split procedure is used to estimate the performance of machine learning algorithms when they are used to make predictions on data not used to train the model.\n",
    "\n",
    "* It is a fast and easy procedure to perform, the results of which allow you to compare the performance of machine learning algorithms."
   ]
  },
  {
   "cell_type": "code",
   "execution_count": 39,
   "id": "12040a9b-dad3-438d-86df-871f0dc8c031",
   "metadata": {},
   "outputs": [],
   "source": [
    "from sklearn.model_selection import train_test_split"
   ]
  },
  {
   "cell_type": "code",
   "execution_count": 40,
   "id": "561a2e35-9308-414d-a30b-ff70297d9dfe",
   "metadata": {},
   "outputs": [
    {
     "data": {
      "text/plain": [
       "((13638, 24), (3410, 24))"
      ]
     },
     "execution_count": 40,
     "metadata": {},
     "output_type": "execute_result"
    }
   ],
   "source": [
    "X_train, X_test, y_train, y_test = train_test_split(X_res,y_res, test_size=0.2, random_state=42)\n",
    "X_train.shape , X_test.shape"
   ]
  },
  {
   "cell_type": "markdown",
   "id": "7acdd54a-04d0-43a7-a39d-164f06e6c1a5",
   "metadata": {},
   "source": [
    "## Model Building"
   ]
  },
  {
   "cell_type": "code",
   "execution_count": 41,
   "id": "77d64103-ef3e-42f3-a03e-58f2728011e2",
   "metadata": {},
   "outputs": [],
   "source": [
    "# importing libraries\n",
    "\n",
    "from sklearn.tree import DecisionTreeClassifier\n",
    "from sklearn.svm import SVC\n",
    "from sklearn.neighbors import KNeighborsClassifier\n",
    "from xgboost import XGBClassifier\n",
    "from catboost import CatBoostClassifier\n",
    "from sklearn.linear_model import LogisticRegression\n",
    "from sklearn.ensemble import RandomForestClassifier, AdaBoostClassifier, GradientBoostingClassifier\n",
    "\n",
    "\n",
    "from sklearn.metrics import accuracy_score, classification_report, confusion_matrix,\\\n",
    "                            precision_score, recall_score, f1_score, roc_auc_score, roc_curve"
   ]
  },
  {
   "cell_type": "code",
   "execution_count": 42,
   "id": "7dc81e43-0e13-4d91-ba3f-b5b5ee648cd3",
   "metadata": {},
   "outputs": [],
   "source": [
    "models = {\n",
    "    \"Random Forest\": RandomForestClassifier(),\n",
    "    \"Decision Tree\": DecisionTreeClassifier(),\n",
    "    \"Gradient Boosting\": GradientBoostingClassifier(),\n",
    "    \"Logistic Regression\": LogisticRegression(),\n",
    "    \"K-neighbors\": KNeighborsClassifier(),\n",
    "    \"XGBClassifier\": XGBClassifier(), \n",
    "    \"CatBoosting Classifier\": CatBoostClassifier(verbose=False),\n",
    "    \"Support Vector Classifier\": SVC(),\n",
    "    \"AdaBoost Classifier\": AdaBoostClassifier()\n",
    "}"
   ]
  },
  {
   "cell_type": "code",
   "execution_count": 43,
   "id": "eedc2ded-ace7-4461-8c39-0637b7333c96",
   "metadata": {},
   "outputs": [],
   "source": [
    "# Create a function which can give accuracy score, f1 -score, recall, roc_curve score\n",
    "\n",
    "def evaluate_clf(true, predicted):\n",
    "    \n",
    "    acc = accuracy_score(true, predicted)\n",
    "    f1 = f1_score(true, predicted)\n",
    "    precision = precision_score(true,predicted)\n",
    "    recall = recall_score(true,predicted)\n",
    "    roc_auc = roc_auc_score(true, predicted)\n",
    "\n",
    "    return acc, f1, precision, recall, roc_auc\n"
   ]
  },
  {
   "cell_type": "code",
   "execution_count": 44,
   "id": "37ecc8c9-aacc-43f5-86b0-2a3529485d01",
   "metadata": {},
   "outputs": [],
   "source": [
    "# Create a function which can evaluate models and return a report \n",
    "\n",
    "def evaluate_models(X_train, X_test ,y_train, y_test,models):\n",
    "    '''\n",
    "    This function takes in X and y and models dictionary as input\n",
    "    It splits the data into Train Test split\n",
    "    Iterates through the given model dictionary and evaluates the metrics\n",
    "    Returns: Dataframe which contains report of all models metrics with cost\n",
    "    '''\n",
    "    models_list = []\n",
    "    accuracy_list =[]\n",
    "    auc = []\n",
    "\n",
    "    for i in range(len(list(models))):\n",
    "        model = list(models.values())[i]\n",
    "        model.fit(X_train,y_train) # training the model\n",
    "\n",
    "\n",
    "\n",
    "        # make prediction\n",
    "        y_train_pred = model.predict(X_train)\n",
    "        y_test_pred = model.predict(X_test)\n",
    "\n",
    "        # Training set performance\n",
    "        model_train_accuracy, model_train_f1,model_train_precision,\\\n",
    "        model_train_recall,model_train_rocauc_score=evaluate_clf(y_train ,y_train_pred)\n",
    "\n",
    "\n",
    "        # Test set performance\n",
    "        model_test_accuracy,model_test_f1,model_test_precision,\\\n",
    "        model_test_recall,model_test_rocauc_score=evaluate_clf(y_test, y_test_pred)\n",
    "        \n",
    "\n",
    "        print(list(models.keys())[i])\n",
    "        models_list.append(list(models.keys())[i])\n",
    "\n",
    "\n",
    "        print('Model performance for Training set')\n",
    "        print(\"- Accuracy: {:.4f}\".format(model_train_accuracy))\n",
    "        print('- F1 score: {:.4f}'.format(model_train_f1)) \n",
    "        print('- Precision: {:.4f}'.format(model_train_precision))\n",
    "        print('- Recall: {:.4f}'.format(model_train_recall))\n",
    "        print('- Roc Auc Score: {:.4f}'.format(model_train_rocauc_score))\n",
    "\n",
    "        print('----------------------------------')\n",
    "\n",
    "        print('Model performance for Test set')\n",
    "        print('- Accuracy: {:.4f}'.format(model_test_accuracy))\n",
    "        print('- F1 score: {:.4f}'.format(model_test_f1))\n",
    "        print('- Precision: {:.4f}'.format(model_test_precision))\n",
    "        print('- Recall: {:.4f}'.format(model_test_recall))\n",
    "        print('- Roc Auc Score: {:.4f}'.format(model_test_rocauc_score))\n",
    "        accuracy_list.append(model_test_accuracy)\n",
    "        auc.append(model_test_rocauc_score)\n",
    "        print('='*35)\n",
    "        print('\\n')\n",
    "\n",
    "\n",
    "\n",
    "    report = pd.DataFrame(list(zip(models_list,accuracy_list)), columns=['Model Name','Accuracy']).sort_values(by=['Accuracy'], ascending=False)\n",
    "    return report"
   ]
  },
  {
   "cell_type": "markdown",
   "id": "3acd2c84-52ea-44bd-bd4c-51e8a44e59ab",
   "metadata": {},
   "source": [
    "## Model Training"
   ]
  },
  {
   "cell_type": "code",
   "execution_count": 45,
   "id": "0d4286bf-cc0b-4c9a-83ab-096943bd961e",
   "metadata": {},
   "outputs": [
    {
     "name": "stdout",
     "output_type": "stream",
     "text": [
      "Random Forest\n",
      "Model performance for Training set\n",
      "- Accuracy: 1.0000\n",
      "- F1 score: 1.0000\n",
      "- Precision: 1.0000\n",
      "- Recall: 1.0000\n",
      "- Roc Auc Score: 1.0000\n",
      "----------------------------------\n",
      "Model performance for Test set\n",
      "- Accuracy: 0.9554\n",
      "- F1 score: 0.9589\n",
      "- Precision: 0.9584\n",
      "- Recall: 0.9594\n",
      "- Roc Auc Score: 0.9551\n",
      "===================================\n",
      "\n",
      "\n",
      "Decision Tree\n",
      "Model performance for Training set\n",
      "- Accuracy: 1.0000\n",
      "- F1 score: 1.0000\n",
      "- Precision: 1.0000\n",
      "- Recall: 1.0000\n",
      "- Roc Auc Score: 1.0000\n",
      "----------------------------------\n",
      "Model performance for Test set\n",
      "- Accuracy: 0.9279\n",
      "- F1 score: 0.9335\n",
      "- Precision: 0.9330\n",
      "- Recall: 0.9340\n",
      "- Roc Auc Score: 0.9273\n",
      "===================================\n",
      "\n",
      "\n",
      "Gradient Boosting\n",
      "Model performance for Training set\n",
      "- Accuracy: 0.8822\n",
      "- F1 score: 0.8903\n",
      "- Precision: 0.8945\n",
      "- Recall: 0.8862\n",
      "- Roc Auc Score: 0.8819\n",
      "----------------------------------\n",
      "Model performance for Test set\n",
      "- Accuracy: 0.8956\n",
      "- F1 score: 0.9031\n",
      "- Precision: 0.9095\n",
      "- Recall: 0.8967\n",
      "- Roc Auc Score: 0.8955\n",
      "===================================\n",
      "\n",
      "\n",
      "Logistic Regression\n",
      "Model performance for Training set\n",
      "- Accuracy: 0.7345\n",
      "- F1 score: 0.7498\n",
      "- Precision: 0.7623\n",
      "- Recall: 0.7377\n",
      "- Roc Auc Score: 0.7342\n",
      "----------------------------------\n",
      "Model performance for Test set\n",
      "- Accuracy: 0.7449\n",
      "- F1 score: 0.7590\n",
      "- Precision: 0.7780\n",
      "- Recall: 0.7409\n",
      "- Roc Auc Score: 0.7452\n",
      "===================================\n",
      "\n",
      "\n",
      "K-neighbors\n",
      "Model performance for Training set\n",
      "- Accuracy: 0.9636\n",
      "- F1 score: 0.9667\n",
      "- Precision: 0.9553\n",
      "- Recall: 0.9784\n",
      "- Roc Auc Score: 0.9624\n",
      "----------------------------------\n",
      "Model performance for Test set\n",
      "- Accuracy: 0.9402\n",
      "- F1 score: 0.9457\n",
      "- Precision: 0.9318\n",
      "- Recall: 0.9600\n",
      "- Roc Auc Score: 0.9383\n",
      "===================================\n",
      "\n",
      "\n",
      "XGBClassifier\n",
      "Model performance for Training set\n",
      "- Accuracy: 0.9809\n",
      "- F1 score: 0.9823\n",
      "- Precision: 0.9825\n",
      "- Recall: 0.9821\n",
      "- Roc Auc Score: 0.9808\n",
      "----------------------------------\n",
      "Model performance for Test set\n",
      "- Accuracy: 0.9352\n",
      "- F1 score: 0.9400\n",
      "- Precision: 0.9443\n",
      "- Recall: 0.9356\n",
      "- Roc Auc Score: 0.9351\n",
      "===================================\n",
      "\n",
      "\n",
      "CatBoosting Classifier\n",
      "Model performance for Training set\n",
      "- Accuracy: 0.9526\n",
      "- F1 score: 0.9558\n",
      "- Precision: 0.9611\n",
      "- Recall: 0.9506\n",
      "- Roc Auc Score: 0.9528\n",
      "----------------------------------\n",
      "Model performance for Test set\n",
      "- Accuracy: 0.9308\n",
      "- F1 score: 0.9354\n",
      "- Precision: 0.9468\n",
      "- Recall: 0.9243\n",
      "- Roc Auc Score: 0.9314\n",
      "===================================\n",
      "\n",
      "\n",
      "Support Vector Classifier\n",
      "Model performance for Training set\n",
      "- Accuracy: 0.8716\n",
      "- F1 score: 0.8808\n",
      "- Precision: 0.8818\n",
      "- Recall: 0.8798\n",
      "- Roc Auc Score: 0.8709\n",
      "----------------------------------\n",
      "Model performance for Test set\n",
      "- Accuracy: 0.8701\n",
      "- F1 score: 0.8802\n",
      "- Precision: 0.8800\n",
      "- Recall: 0.8805\n",
      "- Roc Auc Score: 0.8691\n",
      "===================================\n",
      "\n",
      "\n",
      "AdaBoost Classifier\n",
      "Model performance for Training set\n",
      "- Accuracy: 0.8539\n",
      "- F1 score: 0.8636\n",
      "- Precision: 0.8696\n",
      "- Recall: 0.8576\n",
      "- Roc Auc Score: 0.8535\n",
      "----------------------------------\n",
      "Model performance for Test set\n",
      "- Accuracy: 0.8683\n",
      "- F1 score: 0.8774\n",
      "- Precision: 0.8863\n",
      "- Recall: 0.8686\n",
      "- Roc Auc Score: 0.8683\n",
      "===================================\n",
      "\n",
      "\n"
     ]
    }
   ],
   "source": [
    "base_model_report = evaluate_models(X_train,X_test,y_train,y_test,models)"
   ]
  },
  {
   "cell_type": "code",
   "execution_count": 46,
   "id": "e583523c-8124-4535-9b01-b7e2248a1b43",
   "metadata": {},
   "outputs": [
    {
     "data": {
      "text/html": [
       "<div>\n",
       "<style scoped>\n",
       "    .dataframe tbody tr th:only-of-type {\n",
       "        vertical-align: middle;\n",
       "    }\n",
       "\n",
       "    .dataframe tbody tr th {\n",
       "        vertical-align: top;\n",
       "    }\n",
       "\n",
       "    .dataframe thead th {\n",
       "        text-align: right;\n",
       "    }\n",
       "</style>\n",
       "<table border=\"1\" class=\"dataframe\">\n",
       "  <thead>\n",
       "    <tr style=\"text-align: right;\">\n",
       "      <th></th>\n",
       "      <th>Model Name</th>\n",
       "      <th>Accuracy</th>\n",
       "    </tr>\n",
       "  </thead>\n",
       "  <tbody>\n",
       "    <tr>\n",
       "      <th>0</th>\n",
       "      <td>Random Forest</td>\n",
       "      <td>0.955425</td>\n",
       "    </tr>\n",
       "    <tr>\n",
       "      <th>4</th>\n",
       "      <td>K-neighbors</td>\n",
       "      <td>0.940176</td>\n",
       "    </tr>\n",
       "    <tr>\n",
       "      <th>5</th>\n",
       "      <td>XGBClassifier</td>\n",
       "      <td>0.935191</td>\n",
       "    </tr>\n",
       "    <tr>\n",
       "      <th>6</th>\n",
       "      <td>CatBoosting Classifier</td>\n",
       "      <td>0.930792</td>\n",
       "    </tr>\n",
       "    <tr>\n",
       "      <th>1</th>\n",
       "      <td>Decision Tree</td>\n",
       "      <td>0.927859</td>\n",
       "    </tr>\n",
       "    <tr>\n",
       "      <th>2</th>\n",
       "      <td>Gradient Boosting</td>\n",
       "      <td>0.895601</td>\n",
       "    </tr>\n",
       "    <tr>\n",
       "      <th>7</th>\n",
       "      <td>Support Vector Classifier</td>\n",
       "      <td>0.870088</td>\n",
       "    </tr>\n",
       "    <tr>\n",
       "      <th>8</th>\n",
       "      <td>AdaBoost Classifier</td>\n",
       "      <td>0.868328</td>\n",
       "    </tr>\n",
       "    <tr>\n",
       "      <th>3</th>\n",
       "      <td>Logistic Regression</td>\n",
       "      <td>0.744868</td>\n",
       "    </tr>\n",
       "  </tbody>\n",
       "</table>\n",
       "</div>"
      ],
      "text/plain": [
       "                  Model Name  Accuracy\n",
       "0              Random Forest  0.955425\n",
       "4                K-neighbors  0.940176\n",
       "5              XGBClassifier  0.935191\n",
       "6     CatBoosting Classifier  0.930792\n",
       "1              Decision Tree  0.927859\n",
       "2          Gradient Boosting  0.895601\n",
       "7  Support Vector Classifier  0.870088\n",
       "8        AdaBoost Classifier  0.868328\n",
       "3        Logistic Regression  0.744868"
      ]
     },
     "execution_count": 46,
     "metadata": {},
     "output_type": "execute_result"
    }
   ],
   "source": [
    "base_model_report"
   ]
  },
  {
   "cell_type": "markdown",
   "id": "461c4c88-f299-48db-99ce-9aa3b282b81f",
   "metadata": {},
   "source": [
    "#### Here we can use Hyper Parameter Tuning"
   ]
  },
  {
   "cell_type": "code",
   "execution_count": 47,
   "id": "30edd23f-65c7-42ee-8b45-8fee1a0eda36",
   "metadata": {},
   "outputs": [],
   "source": [
    "xgboost_params = {\n",
    "    'max_depth': range(3,10,2),\n",
    "    'min_child_weight': range(1,6,2)\n",
    "    \n",
    "}\n",
    "\n",
    "rf_params = {\n",
    "    'max_depth': [10,12,None,15,20],\n",
    "    'max_features':['sqrt','log2', None],\n",
    "    'n_estimators': [10,50,100,200]\n",
    "}\n",
    "\n",
    "knn_params = {\n",
    "    \"algorithm\": ['auto', 'ball_tree', 'kd_tree','brute'],\n",
    "    \"weights\": ['uniform', 'distance'],\n",
    "    \"n_neighbors\": [3, 4, 5, 7, 9],\n",
    "}"
   ]
  },
  {
   "cell_type": "code",
   "execution_count": 48,
   "id": "53c9dc3c-deec-49f8-b96f-a17a09cfff24",
   "metadata": {},
   "outputs": [],
   "source": [
    "# Models list for Hyperparameter tuning\n",
    "\n",
    "randomcv_models = [\n",
    "    ('XGBoost', XGBClassifier(), xgboost_params),\n",
    "    (\"RF\", RandomForestClassifier(),rf_params),\n",
    "    (\"KNN\", KNeighborsClassifier(), knn_params)\n",
    "]"
   ]
  },
  {
   "cell_type": "markdown",
   "id": "3a972e00-7d7e-449f-8b77-e970d1c283d8",
   "metadata": {},
   "source": [
    "## Create a function for model training and report which can be used in hyperparameter tuning loop"
   ]
  },
  {
   "cell_type": "code",
   "execution_count": 49,
   "id": "9f6cb482-458a-447f-a66d-94a017bdec2a",
   "metadata": {},
   "outputs": [],
   "source": [
    "from sklearn.model_selection import RandomizedSearchCV"
   ]
  },
  {
   "cell_type": "code",
   "execution_count": 50,
   "id": "e299a420-6662-4bbd-a92a-efbb59433f4c",
   "metadata": {},
   "outputs": [
    {
     "name": "stdout",
     "output_type": "stream",
     "text": [
      "Fitting 3 folds for each of 12 candidates, totalling 36 fits\n",
      "Fitting 3 folds for each of 60 candidates, totalling 180 fits\n",
      "Fitting 3 folds for each of 40 candidates, totalling 120 fits\n",
      "----------------------Best params for XGBoost-------------------------\n",
      "{'min_child_weight': 1, 'max_depth': 9}\n",
      "----------------------Best params for RF-------------------------\n",
      "{'n_estimators': 200, 'max_features': 'sqrt', 'max_depth': None}\n",
      "----------------------Best params for KNN-------------------------\n",
      "{'weights': 'distance', 'n_neighbors': 4, 'algorithm': 'auto'}\n"
     ]
    }
   ],
   "source": [
    "model_params = {}\n",
    "\n",
    "for name,model,params in randomcv_models:\n",
    "    random = RandomizedSearchCV(\n",
    "        estimator=model,\n",
    "        param_distributions=params,\n",
    "        n_iter=100,\n",
    "        cv = 3,\n",
    "        verbose=2,\n",
    "        n_jobs= -1\n",
    "    )\n",
    "    random.fit(X_res,y_res)\n",
    "    model_params[name] = random.best_params_\n",
    "\n",
    "\n",
    "\n",
    "for model_name in model_params:\n",
    "    print(f'----------------------Best params for {model_name}-------------------------')\n",
    "    print(model_params[model_name])"
   ]
  },
  {
   "cell_type": "code",
   "execution_count": 52,
   "id": "2093c835-fc5c-4120-bde7-c142cc61a757",
   "metadata": {},
   "outputs": [
    {
     "data": {
      "text/plain": [
       "{'XGBoost': {'min_child_weight': 1, 'max_depth': 9},\n",
       " 'RF': {'n_estimators': 200, 'max_features': 'sqrt', 'max_depth': None},\n",
       " 'KNN': {'weights': 'distance', 'n_neighbors': 4, 'algorithm': 'auto'}}"
      ]
     },
     "execution_count": 52,
     "metadata": {},
     "output_type": "execute_result"
    }
   ],
   "source": [
    "model_params"
   ]
  },
  {
   "cell_type": "markdown",
   "id": "6c290233-7e77-4010-997e-5d6440b639b8",
   "metadata": {},
   "source": [
    "## Retraining the Model with best Parameters"
   ]
  },
  {
   "cell_type": "code",
   "execution_count": 54,
   "id": "0c374a3d-55d9-4253-830c-0a8fe6fab074",
   "metadata": {},
   "outputs": [
    {
     "name": "stdout",
     "output_type": "stream",
     "text": [
      "Random Forest Classifier\n",
      "Model performance for Training set\n",
      "- Accuracy: 1.0000\n",
      "- F1 score: 1.0000\n",
      "- Precision: 1.0000\n",
      "- Recall: 1.0000\n",
      "- Roc Auc Score: 1.0000\n",
      "----------------------------------\n",
      "Model performance for Test set\n",
      "- Accuracy: 0.9554\n",
      "- F1 score: 0.9589\n",
      "- Precision: 0.9579\n",
      "- Recall: 0.9600\n",
      "- Roc Auc Score: 0.9550\n",
      "===================================\n",
      "\n",
      "\n",
      "KNeighborsClassifier\n",
      "Model performance for Training set\n",
      "- Accuracy: 1.0000\n",
      "- F1 score: 1.0000\n",
      "- Precision: 1.0000\n",
      "- Recall: 1.0000\n",
      "- Roc Auc Score: 1.0000\n",
      "----------------------------------\n",
      "Model performance for Test set\n",
      "- Accuracy: 0.9733\n",
      "- F1 score: 0.9757\n",
      "- Precision: 0.9651\n",
      "- Recall: 0.9865\n",
      "- Roc Auc Score: 0.9721\n",
      "===================================\n",
      "\n",
      "\n",
      "XGBClassifier\n",
      "Model performance for Training set\n",
      "- Accuracy: 0.9995\n",
      "- F1 score: 0.9995\n",
      "- Precision: 0.9993\n",
      "- Recall: 0.9997\n",
      "- Roc Auc Score: 0.9995\n",
      "----------------------------------\n",
      "Model performance for Test set\n",
      "- Accuracy: 0.9455\n",
      "- F1 score: 0.9498\n",
      "- Precision: 0.9487\n",
      "- Recall: 0.9508\n",
      "- Roc Auc Score: 0.9450\n",
      "===================================\n",
      "\n",
      "\n"
     ]
    }
   ],
   "source": [
    "best_models = {\n",
    "    \"Random Forest Classifier\": RandomForestClassifier(**model_params['RF']),\n",
    "    \"KNeighborsClassifier\": KNeighborsClassifier(**model_params['KNN']),\n",
    "    \"XGBClassifier\": XGBClassifier(**model_params['XGBoost'],n_jobs=-1)\n",
    "}\n",
    "\n",
    "tuned_report = evaluate_models(X_train=X_train, X_test=X_test, y_train=y_train,y_test=y_test,models=best_models)"
   ]
  },
  {
   "cell_type": "code",
   "execution_count": 55,
   "id": "cf84061e-692a-447a-8879-0fc41b8342b4",
   "metadata": {},
   "outputs": [
    {
     "data": {
      "text/html": [
       "<div>\n",
       "<style scoped>\n",
       "    .dataframe tbody tr th:only-of-type {\n",
       "        vertical-align: middle;\n",
       "    }\n",
       "\n",
       "    .dataframe tbody tr th {\n",
       "        vertical-align: top;\n",
       "    }\n",
       "\n",
       "    .dataframe thead th {\n",
       "        text-align: right;\n",
       "    }\n",
       "</style>\n",
       "<table border=\"1\" class=\"dataframe\">\n",
       "  <thead>\n",
       "    <tr style=\"text-align: right;\">\n",
       "      <th></th>\n",
       "      <th>Model Name</th>\n",
       "      <th>Accuracy</th>\n",
       "    </tr>\n",
       "  </thead>\n",
       "  <tbody>\n",
       "    <tr>\n",
       "      <th>1</th>\n",
       "      <td>KNeighborsClassifier</td>\n",
       "      <td>0.973314</td>\n",
       "    </tr>\n",
       "    <tr>\n",
       "      <th>0</th>\n",
       "      <td>Random Forest Classifier</td>\n",
       "      <td>0.955425</td>\n",
       "    </tr>\n",
       "    <tr>\n",
       "      <th>2</th>\n",
       "      <td>XGBClassifier</td>\n",
       "      <td>0.945455</td>\n",
       "    </tr>\n",
       "  </tbody>\n",
       "</table>\n",
       "</div>"
      ],
      "text/plain": [
       "                 Model Name  Accuracy\n",
       "1      KNeighborsClassifier  0.973314\n",
       "0  Random Forest Classifier  0.955425\n",
       "2             XGBClassifier  0.945455"
      ]
     },
     "execution_count": 55,
     "metadata": {},
     "output_type": "execute_result"
    }
   ],
   "source": [
    "tuned_report"
   ]
  },
  {
   "cell_type": "code",
   "execution_count": 56,
   "id": "04a71c3c-d666-44f6-8b9c-b214d512a9f8",
   "metadata": {},
   "outputs": [],
   "source": [
    "best_model = KNeighborsClassifier(**model_params['KNN'])\n",
    "best_model = best_model.fit(X_train,y_train)\n",
    "y_pred = best_model.predict(X_test)"
   ]
  },
  {
   "cell_type": "code",
   "execution_count": 57,
   "id": "30fddde1-40a0-46da-84e7-19c18b3502af",
   "metadata": {},
   "outputs": [
    {
     "data": {
      "text/plain": [
       "0.9733137829912023"
      ]
     },
     "execution_count": 57,
     "metadata": {},
     "output_type": "execute_result"
    }
   ],
   "source": [
    "score = accuracy_score(y_test,y_pred)\n",
    "score"
   ]
  },
  {
   "cell_type": "code",
   "execution_count": 59,
   "id": "0998b53f-d4e6-4633-ad4f-4d8667961e88",
   "metadata": {},
   "outputs": [
    {
     "name": "stdout",
     "output_type": "stream",
     "text": [
      "              precision    recall  f1-score   support\n",
      "\n",
      "           0       0.98      0.96      0.97      1561\n",
      "           1       0.97      0.99      0.98      1849\n",
      "\n",
      "    accuracy                           0.97      3410\n",
      "   macro avg       0.97      0.97      0.97      3410\n",
      "weighted avg       0.97      0.97      0.97      3410\n",
      "\n"
     ]
    }
   ],
   "source": [
    "cr = classification_report(y_test,y_pred)\n",
    "print(cr)"
   ]
  },
  {
   "cell_type": "code",
   "execution_count": 60,
   "id": "dc5b9933-4472-4200-991b-b557571a887c",
   "metadata": {},
   "outputs": [],
   "source": [
    "from sklearn.metrics import ConfusionMatrixDisplay"
   ]
  },
  {
   "cell_type": "code",
   "execution_count": 61,
   "id": "ecd92510-1245-481a-9847-80069fa2bf68",
   "metadata": {},
   "outputs": [
    {
     "data": {
      "text/plain": [
       "<sklearn.metrics._plot.confusion_matrix.ConfusionMatrixDisplay at 0x20c9de6e910>"
      ]
     },
     "execution_count": 61,
     "metadata": {},
     "output_type": "execute_result"
    },
    {
     "data": {
      "image/png": "[encoded data removed]",
      "text/plain": [
       "<Figure size 640x480 with 2 Axes>"
      ]
     },
     "metadata": {},
     "output_type": "display_data"
    }
   ],
   "source": [
    "ConfusionMatrixDisplay.from_estimator(best_model, X_test, y_test)"
   ]
  },
  {
   "cell_type": "markdown",
   "id": "53fff340-068a-4158-85b2-b4b490e253c6",
   "metadata": {},
   "source": [
    "## Best Model is K-Nearest Neighbor(KNN) with Accuracy 97%"
   ]
  }
 ],
 "metadata": {
  "kernelspec": {
   "display_name": "Python 3 (ipykernel)",
   "language": "python",
   "name": "python3"
  },
  "language_info": {
   "codemirror_mode": {
    "name": "ipython",
    "version": 3
   },
   "file_extension": ".py",
   "mimetype": "text/x-python",
   "name": "python",
   "nbconvert_exporter": "python",
   "pygments_lexer": "ipython3",
   "version": "3.8.0"
  }
 },
 "nbformat": 4,
 "nbformat_minor": 5
}
